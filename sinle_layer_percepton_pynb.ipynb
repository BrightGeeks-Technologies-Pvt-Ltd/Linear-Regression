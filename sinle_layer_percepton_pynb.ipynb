{
  "nbformat": 4,
  "nbformat_minor": 0,
  "metadata": {
    "colab": {
      "provenance": []
    },
    "kernelspec": {
      "name": "python3",
      "display_name": "Python 3"
    },
    "language_info": {
      "name": "python"
    }
  },
  "cells": [
    {
      "cell_type": "code",
      "execution_count": null,
      "metadata": {
        "id": "4f3KyGNPi_4l"
      },
      "outputs": [],
      "source": [
        "import numpy as np\n",
        "# Input data and expected outputs\n",
        "X = np.array([[0, 0, 1], [1, 1, 1], [1, 0, 1], [0, 1, 1]])\n",
        "y = np.array([[0], [1], [1], [0]])\n",
        "np.random.seed(1)\n",
        "weights = 2 * np.random.random((3, 1)) - 1\n",
        "for _ in range(10000):\n",
        "    output = 1 / (1 + np.exp(-np.dot(X, weights)))\n",
        "    weights += np.dot(X.T, (y - output) * output * (1 - output))\n",
        "# Predict\n",
        "print(1 / (1 + np.exp(-np.dot(np.array([1, 0, 0]), weights))))"
      ]
    }
  ]
}